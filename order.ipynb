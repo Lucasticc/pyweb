{
 "cells": [
  {
   "attachments": {},
   "cell_type": "markdown",
   "metadata": {},
   "source": [
    "直接使用命令行来创建一个django项目\n"
   ]
  },
  {
   "cell_type": "code",
   "execution_count": null,
   "metadata": {
    "vscode": {
     "languageId": "plaintext"
    }
   },
   "outputs": [],
   "source": [
    "django-admin startproject firstweb"
   ]
  },
  {
   "attachments": {},
   "cell_type": "markdown",
   "metadata": {},
   "source": [
    "HelloWorld: 项目的容器。\n",
    "\n",
    "manage.py: 一个实用的命令行工具，可让你以各种方式与该 Django 项目进行交互。\n",
    "\n",
    "HelloWorld/__init__.py: 一个空文件，告诉 Python 该目录是一个 Python 包。\n",
    "\n",
    "HelloWorld/asgi.py: 一个 ASGI 兼容的 Web 服务器的入口，以便运行你的项目。\n",
    "\n",
    "HelloWorld/settings.py: 该 Django 项目的设置/配置。\n",
    "\n",
    "HelloWorld/urls.py: 该 Django 项目的 URL 声明; 一份由 Django 驱动的网站\"目录\"。\n",
    "\n",
    "HelloWorld/wsgi.py: 一个 WSGI 兼容的 Web 服务器的入口，以便运行你的项目。\n"
   ]
  },
  {
   "attachments": {},
   "cell_type": "markdown",
   "metadata": {},
   "source": [
    "写完页面之后配置url转发"
   ]
  },
  {
   "attachments": {},
   "cell_type": "markdown",
   "metadata": {},
   "source": [
    "python3 manage.py runserver\n",
    "\n",
    "在项目路径manage.py 中启用命令 打开服务器"
   ]
  }
 ],
 "metadata": {
  "language_info": {
   "name": "python"
  },
  "orig_nbformat": 4
 },
 "nbformat": 4,
 "nbformat_minor": 2
}
